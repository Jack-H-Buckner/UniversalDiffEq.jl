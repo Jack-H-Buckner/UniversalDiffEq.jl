{
 "cells": [
  {
   "cell_type": "code",
   "execution_count": null,
   "id": "79679ebb-9081-40ac-a588-c802f03f4c20",
   "metadata": {},
   "outputs": [],
   "source": []
  }
 ],
 "metadata": {
  "kernelspec": {
   "display_name": "Julia 1.7.3",
   "language": "julia",
   "name": "julia-1.7"
  },
  "language_info": {
   "file_extension": ".jl",
   "mimetype": "application/julia",
   "name": "julia",
   "version": "1.7.3"
  }
 },
 "nbformat": 4,
 "nbformat_minor": 5
}
