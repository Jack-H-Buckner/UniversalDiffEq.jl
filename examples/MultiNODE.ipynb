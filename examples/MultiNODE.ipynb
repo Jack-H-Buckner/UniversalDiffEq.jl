{
 "cells": [
  {
   "cell_type": "code",
   "execution_count": 11,
   "metadata": {},
   "outputs": [
    {
     "data": {
      "text/html": [
       "<div><div style = \"float: left;\"><span>6×3 DataFrame</span></div><div style = \"clear: both;\"></div></div><div class = \"data-frame\" style = \"overflow-x: scroll;\"><table class = \"data-frame\" style = \"margin-bottom: 6px;\"><thead><tr class = \"header\"><th class = \"rowNumber\" style = \"font-weight: bold; text-align: right;\">Row</th><th style = \"text-align: left;\">t</th><th style = \"text-align: left;\">series</th><th style = \"text-align: left;\">X</th></tr><tr class = \"subheader headerLastRow\"><th class = \"rowNumber\" style = \"font-weight: bold; text-align: right;\"></th><th title = \"Int64\" style = \"text-align: left;\">Int64</th><th title = \"Int64\" style = \"text-align: left;\">Int64</th><th title = \"Float64\" style = \"text-align: left;\">Float64</th></tr></thead><tbody><tr><td class = \"rowNumber\" style = \"font-weight: bold; text-align: right;\">1</td><td style = \"text-align: right;\">1</td><td style = \"text-align: right;\">1</td><td style = \"text-align: right;\">0.0</td></tr><tr><td class = \"rowNumber\" style = \"font-weight: bold; text-align: right;\">2</td><td style = \"text-align: right;\">2</td><td style = \"text-align: right;\">1</td><td style = \"text-align: right;\">0.0</td></tr><tr><td class = \"rowNumber\" style = \"font-weight: bold; text-align: right;\">3</td><td style = \"text-align: right;\">3</td><td style = \"text-align: right;\">1</td><td style = \"text-align: right;\">0.0</td></tr><tr><td class = \"rowNumber\" style = \"font-weight: bold; text-align: right;\">4</td><td style = \"text-align: right;\">4</td><td style = \"text-align: right;\">1</td><td style = \"text-align: right;\">0.0</td></tr><tr><td class = \"rowNumber\" style = \"font-weight: bold; text-align: right;\">5</td><td style = \"text-align: right;\">5</td><td style = \"text-align: right;\">1</td><td style = \"text-align: right;\">0.0</td></tr><tr><td class = \"rowNumber\" style = \"font-weight: bold; text-align: right;\">6</td><td style = \"text-align: right;\">6</td><td style = \"text-align: right;\">1</td><td style = \"text-align: right;\">0.0</td></tr></tbody></table></div>"
      ],
      "text/latex": [
       "\\begin{tabular}{r|ccc}\n",
       "\t& t & series & X\\\\\n",
       "\t\\hline\n",
       "\t& Int64 & Int64 & Float64\\\\\n",
       "\t\\hline\n",
       "\t1 & 1 & 1 & 0.0 \\\\\n",
       "\t2 & 2 & 1 & 0.0 \\\\\n",
       "\t3 & 3 & 1 & 0.0 \\\\\n",
       "\t4 & 4 & 1 & 0.0 \\\\\n",
       "\t5 & 5 & 1 & 0.0 \\\\\n",
       "\t6 & 6 & 1 & 0.0 \\\\\n",
       "\\end{tabular}\n"
      ],
      "text/plain": [
       "\u001b[1m6×3 DataFrame\u001b[0m\n",
       "\u001b[1m Row \u001b[0m│\u001b[1m t     \u001b[0m\u001b[1m series \u001b[0m\u001b[1m X       \u001b[0m\n",
       "     │\u001b[90m Int64 \u001b[0m\u001b[90m Int64  \u001b[0m\u001b[90m Float64 \u001b[0m\n",
       "─────┼────────────────────────\n",
       "   1 │     1       1      0.0\n",
       "   2 │     2       1      0.0\n",
       "   3 │     3       1      0.0\n",
       "   4 │     4       1      0.0\n",
       "   5 │     5       1      0.0\n",
       "   6 │     6       1      0.0"
      ]
     },
     "metadata": {},
     "output_type": "display_data"
    }
   ],
   "source": [
    "using CSV, DataFrames, Plots\n",
    "data = CSV.read(\"Mumby_Hastings_sim_data.csv\",DataFrame)\n",
    "data = data[:,2:end]\n",
    "training_data = data[1:3:(end-20),:]\n",
    "test_data = data[(end-20):3:end,:]\n",
    "data[1:6,:]\n",
    "X = DataFrame(t = data.t, series = data.series, X = zeros(length(data.t)))\n",
    "X[1:6,:]"
   ]
  },
  {
   "cell_type": "code",
   "execution_count": 12,
   "metadata": {},
   "outputs": [
    {
     "name": "stderr",
     "output_type": "stream",
     "text": [
      "┌ Warning: Error requiring `Enzyme` from `LinearSolve`\n",
      "│   exception = (LoadError(\"/Users/johnbuckner/.julia/packages/LinearSolve/qCLK7/ext/LinearSolveEnzymeExt.jl\", 1, ArgumentError(\"Package LinearSolve does not have Enzyme in its dependencies:\\n- If you have LinearSolve checked out for development and have\\n  added Enzyme as a dependency but haven't updated your primary\\n  environment's manifest file, try `Pkg.resolve()`.\\n- Otherwise you may need to report an issue with LinearSolve\")), Union{Ptr{Nothing}, Base.InterpreterIP}[Ptr{Nothing} @0x00000001175fb299, Ptr{Nothing} @0x000000010e1e3f50, Ptr{Nothing} @0x000000010e217bac, Ptr{Nothing} @0x000000010e21694f, Ptr{Nothing} @0x000000010e217165, Ptr{Nothing} @0x000000010e216d72, Ptr{Nothing} @0x000000010e218045, Ptr{Nothing} @0x000000011ba43d9a, Ptr{Nothing} @0x000000010e1e3f50, Ptr{Nothing} @0x000000011bb058b5, Ptr{Nothing} @0x000000011b673bb5, Ptr{Nothing} @0x000000010e1e3f50, Ptr{Nothing} @0x000000010e1f0d3a, Ptr{Nothing} @0x00000001dc364d86, Ptr{Nothing} @0x000000010e1e3f50, Ptr{Nothing} @0x000000010e1fd40f, Ptr{Nothing} @0x000000010e1fb956, Ptr{Nothing} @0x000000010e1fbf4c, Base.InterpreterIP in top-level CodeInfo for LinearSolve at statement 12, Ptr{Nothing} @0x000000010e216fcf, Ptr{Nothing} @0x000000010e218045, Ptr{Nothing} @0x00000001dc364cf4, Ptr{Nothing} @0x00000001dc364d1f, Ptr{Nothing} @0x000000010e1e3f50, Ptr{Nothing} @0x000000010e1fd40f, Ptr{Nothing} @0x000000010e1fb679, Ptr{Nothing} @0x000000010e1fbb9a, Ptr{Nothing} @0x000000010e1fb37c, Base.InterpreterIP in MethodInstance for Requires.err(::Any, ::Module, ::String, ::String, ::Any) at statement 8, Ptr{Nothing} @0x00000001dc364c30, Ptr{Nothing} @0x00000001dc364c4f, Ptr{Nothing} @0x000000010e1e3f50, Ptr{Nothing} @0x000000010e1fd40f, Ptr{Nothing} @0x000000010e1fb679, Ptr{Nothing} @0x000000010e1fbb9a, Ptr{Nothing} @0x000000010e1fb37c, Base.InterpreterIP in MethodInstance for Requires.withpath(::Any, ::String) at statement 10, Ptr{Nothing} @0x00000001dc364b30, Ptr{Nothing} @0x00000001dc364baf, Ptr{Nothing} @0x000000010e1e3f50, Ptr{Nothing} @0x000000010e1f0d3a, Ptr{Nothing} @0x000000016b2ca102, Ptr{Nothing} @0x000000010e1e3f50, Ptr{Nothing} @0x000000010e1fd40f, Ptr{Nothing} @0x000000010e1fb640, Ptr{Nothing} @0x000000010e1fb37c, Base.InterpreterIP in MethodInstance for Requires.loadpkg(::Base.PkgId) at statement 6, Ptr{Nothing} @0x000000010e1e3f50, Ptr{Nothing} @0x000000010e1f0d3a, Ptr{Nothing} @0x00000001175f59b3, Ptr{Nothing} @0x00000001175f452e, Ptr{Nothing} @0x00000001175f795b, Ptr{Nothing} @0x00000001175fa1f9, Ptr{Nothing} @0x00000001175fb085, Ptr{Nothing} @0x000000010e1e3f50, Ptr{Nothing} @0x000000010e217bac, Ptr{Nothing} @0x000000010e21694f, Ptr{Nothing} @0x000000010e217165, Ptr{Nothing} @0x000000010e216d72, Ptr{Nothing} @0x000000010e218045, Ptr{Nothing} @0x000000011ba43d9a, Ptr{Nothing} @0x000000010e1e3f50, Ptr{Nothing} @0x000000011bb058b5, Ptr{Nothing} @0x000000016b2c89ee, Ptr{Nothing} @0x000000010e1e3f50, Ptr{Nothing} @0x000000010e1fd40f, Ptr{Nothing} @0x000000010e1fb956, Ptr{Nothing} @0x000000010e1fbf4c, Base.InterpreterIP in top-level CodeInfo for Main at statement 0, Ptr{Nothing} @0x000000010e216fcf, Ptr{Nothing} @0x000000010e216d72, Ptr{Nothing} @0x000000010e218045, Ptr{Nothing} @0x000000011761f71c, Ptr{Nothing} @0x000000010e1e3f50, Ptr{Nothing} @0x000000010e1f0d3a, Ptr{Nothing} @0x000000011761e21d, Ptr{Nothing} @0x000000011761efc2, Ptr{Nothing} @0x000000011761f39a, Ptr{Nothing} @0x000000011761f41d, Ptr{Nothing} @0x000000010e1e3f50, Ptr{Nothing} @0x000000011761192f, Ptr{Nothing} @0x000000010e1e3f50, Ptr{Nothing} @0x0000000117603bff, Ptr{Nothing} @0x00000001176040b2, Ptr{Nothing} @0x0000000117604128, Ptr{Nothing} @0x000000010e1e3f50, Ptr{Nothing} @0x00000001175fc265, Ptr{Nothing} @0x000000010e216f06, Ptr{Nothing} @0x000000010e216d72, Ptr{Nothing} @0x000000010e218045, Ptr{Nothing} @0x000000011ba43d9a, Ptr{Nothing} @0x000000010e1e3f50, Ptr{Nothing} @0x000000011bb058b5, Ptr{Nothing} @0x000000011b673bb5, Ptr{Nothing} @0x000000010e1e3f50, Ptr{Nothing} @0x000000011b85c2c4, Ptr{Nothing} @0x000000011b044cff, Ptr{Nothing} @0x000000011b044e68, Ptr{Nothing} @0x000000010e1e3f50, Ptr{Nothing} @0x000000010e23a862, Ptr{Nothing} @0x000000010e23a753])\n",
      "└ @ Requires /Users/johnbuckner/.julia/packages/Requires/Z8rfN/src/require.jl:51\n"
     ]
    },
    {
     "data": {
      "text/plain": [
       "Main.UniversalDiffEq"
      ]
     },
     "metadata": {},
     "output_type": "display_data"
    }
   ],
   "source": [
    "include(\"../src/UniversalDiffEq.jl\")"
   ]
  },
  {
   "cell_type": "code",
   "execution_count": 29,
   "metadata": {},
   "outputs": [],
   "source": [
    "model_1 = UniversalDiffEq.MultiNODESimplex(training_data,X,obs_weight = 0.25,proc_weight = 5.0, reg_weight = 10.0^-10, reg_type = \"L2\")\n",
    "nothing"
   ]
  },
  {
   "cell_type": "code",
   "execution_count": 30,
   "metadata": {},
   "outputs": [
    {
     "data": {
      "text/plain": [
       "13.273403325996725"
      ]
     },
     "metadata": {},
     "output_type": "display_data"
    }
   ],
   "source": [
    "model_1.loss_function(model_1.parameters)"
   ]
  },
  {
   "cell_type": "code",
   "execution_count": 31,
   "metadata": {},
   "outputs": [],
   "source": [
    "UniversalDiffEq.gradient_decent!(model_1,verbos = true,maxiter=200,step_size = 0.1) "
   ]
  },
  {
   "cell_type": "code",
   "execution_count": null,
   "metadata": {},
   "outputs": [],
   "source": [
    "UniversalDiffEq.gradient_decent!(model_1,verbos = true,maxiter=150,step_size = 0.05) \n"
   ]
  },
  {
   "cell_type": "code",
   "execution_count": null,
   "metadata": {},
   "outputs": [],
   "source": [
    "UniversalDiffEq.gradient_decent!(model_1,verbos = true,maxiter=100,step_size = 0.01) "
   ]
  },
  {
   "cell_type": "code",
   "execution_count": null,
   "metadata": {},
   "outputs": [],
   "source": [
    "UniversalDiffEq.plot_predictions(model_1)"
   ]
  },
  {
   "cell_type": "code",
   "execution_count": null,
   "metadata": {},
   "outputs": [],
   "source": [
    "UniversalDiffEq.plot_state_estiamtes(model_1)"
   ]
  },
  {
   "cell_type": "code",
   "execution_count": null,
   "metadata": {},
   "outputs": [],
   "source": [
    "UniversalDiffEq.plot_predictions(model_1, test_data)"
   ]
  },
  {
   "cell_type": "code",
   "execution_count": null,
   "metadata": {},
   "outputs": [],
   "source": [
    "UniversalDiffEq.plot_forecast(model_1, test_data)"
   ]
  },
  {
   "cell_type": "code",
   "execution_count": null,
   "metadata": {},
   "outputs": [],
   "source": [
    "UniversalDiffEq.plot_forecast(model_1, 10)"
   ]
  },
  {
   "cell_type": "code",
   "execution_count": null,
   "metadata": {},
   "outputs": [],
   "source": [
    "init, ob, pred = UniversalDiffEq.predictions(model_1)"
   ]
  },
  {
   "cell_type": "code",
   "execution_count": null,
   "metadata": {},
   "outputs": [],
   "source": [
    "quiver(init[1,:], init[2,:], quiver=(pred[1,:].-init[1,:],pred[2,:].-init[2,:]))"
   ]
  },
  {
   "cell_type": "code",
   "execution_count": null,
   "metadata": {},
   "outputs": [],
   "source": [
    "Plots.plot(data.algae,data.coral,group=data.series,label = \"\")"
   ]
  }
 ],
 "metadata": {
  "kernelspec": {
   "display_name": "Julia 1.7.3",
   "language": "julia",
   "name": "julia-1.7"
  },
  "language_info": {
   "file_extension": ".jl",
   "mimetype": "application/julia",
   "name": "julia",
   "version": "1.7.3"
  }
 },
 "nbformat": 4,
 "nbformat_minor": 2
}
