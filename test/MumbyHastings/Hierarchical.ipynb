{
 "cells": [
  {
   "cell_type": "code",
   "execution_count": 145,
   "id": "ec361143-688a-42b6-8784-e92d20bc2b43",
   "metadata": {},
   "outputs": [
    {
     "name": "stderr",
     "output_type": "stream",
     "text": [
      "WARNING: replacing module UniversalDiffEq.\n",
      "WARNING: replacing module ObservationModels.\n",
      "WARNING: replacing module ProcessModels.\n",
      "WARNING: replacing module LossFunctions.\n",
      "WARNING: replacing module Regularization.\n",
      "WARNING: replacing module ObservationModels.\n",
      "WARNING: replacing module ProcessModels.\n",
      "WARNING: replacing module LossFunctions.\n",
      "WARNING: replacing module Regularization.\n"
     ]
    },
    {
     "data": {
      "text/plain": [
       "Main.UniversalDiffEq"
      ]
     },
     "execution_count": 145,
     "metadata": {},
     "output_type": "execute_result"
    }
   ],
   "source": [
    "include(\"../../src/UniversalDiffEq.jl\" )"
   ]
  },
  {
   "cell_type": "code",
   "execution_count": 116,
   "id": "7a900172-6a6c-4d34-b891-f67afa4f08bf",
   "metadata": {},
   "outputs": [
    {
     "data": {
      "text/plain": [
       "(level_0 = (group_1 = 0.3010449871053731,), level_1 = (group_1 = 0.08766509864654615, group_2 = 0.16064903326900615), series = (series_1 = 0.1850963164802496, series_2 = 0.45846711468319445, series_3 = 0.5367749807438223, series_4 = 0.7851216782047153))"
      ]
     },
     "execution_count": 116,
     "metadata": {},
     "output_type": "execute_result"
    }
   ],
   "source": [
    "using DataFrames\n",
    "construct_parameters = () -> rand()\n",
    "data = DataFrame(level1 = [1,1,1,1,1,1,2,2,2,2,2,2], series = [1,1,1,2,2,2,3,3,3,4,4,4], t = [1,2,3,1,2,3,1,2,3,1,2,3], x1 = [1,2,2.5,1,2.1,2.6,1,2,2,1,2])\n",
    "nlevels = 2\n",
    "pars = UniversalDiffEq.init_nested_parameters(data, construct_parameters, nlevels)"
   ]
  },
  {
   "cell_type": "code",
   "execution_count": 117,
   "id": "371cdece-dc6f-45a6-89da-06d892887334",
   "metadata": {},
   "outputs": [
    {
     "data": {
      "text/plain": [
       "0.34993955352786"
      ]
     },
     "execution_count": 117,
     "metadata": {},
     "output_type": "execute_result"
    }
   ],
   "source": [
    "predict(u,pars) = pars\n",
    "loss(pred,u,pars) = abs(u - pred)\n",
    "u0 = 0.0\n",
    "u1 = 0.0\n",
    "series = 1\n",
    "groups = [1,2]\n",
    "UniversalDiffEq.hierarcical_loss(u0,u1,predict,loss,pars,series,groups)"
   ]
  },
  {
   "cell_type": "code",
   "execution_count": 118,
   "id": "7740449f-021f-469b-82f5-3675e8543ec8",
   "metadata": {},
   "outputs": [
    {
     "data": {
      "text/plain": [
       "([1, 4, 7, 10], [3, 3, 3, 3], [[1, 2], [1, 1], [1, 1], [1, 8]], [[1, 1], [1, 1], [1, 2], [1, 2]])"
      ]
     },
     "execution_count": 118,
     "metadata": {},
     "output_type": "execute_result"
    }
   ],
   "source": [
    "UniversalDiffEq.get_series_info(data,nlevels)"
   ]
  },
  {
   "cell_type": "code",
   "execution_count": 146,
   "id": "3d618600-8924-4418-a347-15e9b15bf43e",
   "metadata": {},
   "outputs": [],
   "source": [
    "model=UniversalDiffEq.HierarchicalNODE(data,nlevels)\n",
    "nothing"
   ]
  },
  {
   "cell_type": "code",
   "execution_count": 147,
   "id": "fd134d41-6c48-4c67-9290-c627109e747f",
   "metadata": {},
   "outputs": [
    {
     "data": {
      "text/plain": [
       "15.333383793328448"
      ]
     },
     "execution_count": 147,
     "metadata": {},
     "output_type": "execute_result"
    }
   ],
   "source": [
    "model.loss_function(model.parameters)"
   ]
  },
  {
   "cell_type": "code",
   "execution_count": 149,
   "id": "cb62c2f9-075c-4383-8128-8e049751dd86",
   "metadata": {},
   "outputs": [
    {
     "name": "stdout",
     "output_type": "stream",
     "text": [
      "15.333 14.924 14.562 14.184 13.775 13.425 13.058 12.695 12.369 12.057 11.732 11.418 11.124 10.843 10.575 10.345 10.069 9.829 9.592 9.364 9.149 8.952 8.748 8.561 8.374 8.19 8.025 7.864 7.71 7.557 7.42 7.285 7.151 7.017 6.897 6.775 6.657 6.548 6.432 6.325 6.221 6.132 6.077 6.077 5.873 5.844 5.688 5.638 5.531 5.468 5.392 5.292 5.203 5.101 5.06 4.968 4.879 4.84 4.735 4.675 4.611 4.53 4.477 4.398 4.344 4.282 4.216 4.153 4.099 4.034 3.98 3.926 3.869 3.816 3.757 3.708 3.652 3.602 3.551 3.502 3.452 3.41 3.411 3.519 3.521 3.237 3.363 3.171 3.27 3.087 3.149 2.997 3.04 2.935 2.908 2.857 2.818 2.77 2.733 2.693 2.65 2.615 2.577 2.535 2.509 2.462 2.435 2.394 2.366 2.325 2.301 2.257 2.235 2.196 2.169 2.135 2.107 2.073 2.046 2.016 1.985 1.96 1.928 1.902 1.874 1.846 1.821 1.793 1.767 1.741 1.715 1.689 1.666 1.641 1.616 1.592 1.569 1.546 1.522 1.499 1.476 1.454 1.433 1.412 1.393 1.379 1.383 1.431 1.478 1.371 1.302 1.348 1.256 1.282 1.218 1.215 1.208 1.156 1.168 1.139 1.105 1.106 1.067 1.064 1.036 1.026 1.005 0.991 0.973 0.957 0.942 0.925 0.913 0.895 0.883 0.866 0.853 0.839 0.825 0.813 0.798 0.786 0.773 0.759 0.748 0.735 0.723 0.712 0.699 0.689 0.677 0.665 0.655 0.644 0.633 0.623 0.613 0.602 0.592 0.582 0.573 0.564 0.555 0.546 0.539 0.533 0.531 0.537 0.543 0.537 0.496 0.484 0.494 0.471 0.459 0.463 0.45 0.436 0.434 0.427 0.416 0.409 0.402 0.397 0.388 0.381 0.377 0.368 0.361 0.358 0.35 0.342 0.339 0.332 0.325 0.321 0.315 0.31 0.305 0.298 0.293 0.289 0.284 0.28 0.275 0.269 0.265 0.26 0.256 0.251 0.247 0.243 0.239 0.235 0.231 0.228 0.229 0.247 0.325 0.496 0.411 0.244 0.309 0.396 0.226 0.309 0.33 0.25 0.23 0.277 0.206 0.226 0.224 0.227 0.182 0.196 0.196 0.171 0.188 0.168 0.168 0.171 0.159 0.165 0.149 0.156 0.15 0.148 0.144 0.141 0.138 0.137 0.133 0.132 0.129 0.128 0.125 0.123 0.122 0.119 0.118 0.115 0.114 0.112 0.111 0.109 0.107 0.106 0.104 0.103 0.101 0.1 0.099 0.097 0.096 0.095 0.094 0.092 0.091 0.09 0.089 0.088 0.086 0.085 0.084 0.083 0.082 0.081 0.08 0.079 0.078 0.077 0.077 0.076 0.075 0.074 0.073 0.072 0.071 0.071 0.07 0.069 0.069 0.069 0.071 0.081 0.124 0.215 0.237 0.084 0.136 0.157 0.077 0.152 0.084 0.101 0.123 0.068 0.107 0.074 0.083 0.082 0.07 0.083 0.064 0.076 0.065 0.069 0.065 0.066 0.063 0.063 0.061 0.061 0.06 0.058 0.059 0.057 0.057 0.057 0.055 0.056 0.054 0.054 0.053 0.053 0.052 0.052 0.051 0.051 0.051 0.05 0.05 0.049 0.05 0.049 0.049 0.048 0.048 0.048 0.048 0.047 0.047 0.047 0.047 0.047 0.046 0.046 0.046 0.046 0.046 0.045 0.045 0.045 0.045 0.045 0.045 0.044 0.044 0.044 0.044 0.044 0.044 0.044 0.043 0.043 0.043 0.043 0.043 0.043 0.043 0.043 0.042 0.042 0.042 0.042 0.042 0.042 0.042 0.042 0.042 0.042 0.041 0.041 0.041 0.041 0.041 0.041 0.041 0.041 0.041 0.041 0.041 0.04 0.04 0.04 0.04 0.04 0.04 0.04 0.04 0.04 0.04 0.04 0.04 0.04 0.04 0.04 0.04 0.039 0.039 0.039 0.039 0.039 0.039 0.039 0.04 0.04 0.041 0.044 0.05 0.059 0.066 0.059 0.042 0.043 0.053 0.047 0.04 0.047 0.047 0.04 0.046 0.048 0.044 0.05 0.054 0.049 0.047 0.044 0.039 "
     ]
    }
   ],
   "source": [
    "UniversalDiffEq.gradient_decent!(model,verbos = true)"
   ]
  },
  {
   "cell_type": "code",
   "execution_count": null,
   "id": "6b655ec7-424b-43d6-9e83-3d1ab98ea40f",
   "metadata": {},
   "outputs": [],
   "source": []
  },
  {
   "cell_type": "code",
   "execution_count": null,
   "id": "2519873f-eb66-41a2-8f6e-42578b0bdfbe",
   "metadata": {},
   "outputs": [],
   "source": []
  }
 ],
 "metadata": {
  "kernelspec": {
   "display_name": "Julia 1.7.3",
   "language": "julia",
   "name": "julia-1.7"
  },
  "language_info": {
   "file_extension": ".jl",
   "mimetype": "application/julia",
   "name": "julia",
   "version": "1.7.3"
  }
 },
 "nbformat": 4,
 "nbformat_minor": 5
}
